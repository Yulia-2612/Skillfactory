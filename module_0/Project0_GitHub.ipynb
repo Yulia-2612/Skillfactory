{
 "cells": [
  {
   "cell_type": "code",
   "execution_count": 1,
   "metadata": {},
   "outputs": [
    {
     "name": "stdout",
     "output_type": "stream",
     "text": [
      "Загадано число от 1 до 100\n",
      "Ваш алгоритм угадывает число в среднем за 7 попыток\n"
     ]
    },
    {
     "data": {
      "text/plain": [
       "7"
      ]
     },
     "execution_count": 1,
     "metadata": {},
     "output_type": "execute_result"
    }
   ],
   "source": [
    "import numpy as np \n",
    "\n",
    "number = np.random.randint(1,101)  #число, загаданное компьютером\n",
    "print ('Загадано число от 1 до 100')\n",
    "\n",
    "\n",
    "#создаем функцию, которая угадывает заданное компьютером число и возвращает количество попыток\n",
    "def game_core_v3(number): \n",
    "    count = 0  #счетчик попыток\n",
    "    \n",
    "    limit_bottom = 1  #нижняя граница предела \n",
    "    limit_upper = 101  #верхняя граница предела\n",
    "    predict = np.random.randint(limit_bottom, limit_upper)  #предполагаемое число   \n",
    "\n",
    "\n",
    "    while number != predict:  #цикл подсчета попыток\n",
    "        count+=1\n",
    "        \n",
    "        if number > predict:  #если загаданное число больше предполагаемого, \n",
    "            limit_bottom = predict  #меняется нижняя граница предела для следующего предполагаемого числа \n",
    "            predict = np.random.randint(limit_bottom, limit_upper)\n",
    "        \n",
    "        elif number < predict:  #если загаданное число меньше предполагаемого,  \n",
    "            limit_upper = predict  #меняется верхняя граница предела для следующего предполагаемого числа\n",
    "            predict = np.random.randint(limit_bottom, limit_upper)\n",
    "    \n",
    "    return(count) # выход из цикла, если число было угадано\n",
    "\n",
    "\n",
    "def score_game(game_core):\n",
    "    count_ls = []\n",
    "    np.random.seed(1)  # фиксируем RANDOM SEED, чтобы эксперимент был воспроизводим\n",
    "    random_array = np.random.randint(1,101, size=(1000)) #количество повторений равно 1000 раз\n",
    "    \n",
    "    for number in random_array:\n",
    "        count_ls.append(game_core(number))\n",
    "    \n",
    "    score = int(np.mean(count_ls)) #среднее значение угадывания числа\n",
    "    \n",
    "    print(f\"Ваш алгоритм угадывает число в среднем за {score} попыток\")\n",
    "    \n",
    "    return(score)\n",
    "\n",
    "score_game(game_core_v3)"
   ]
  },
  {
   "cell_type": "markdown",
   "metadata": {},
   "source": [
    "Вывод: таким образом используя возможность генерирования случайного числа с помощью библиотеки Numpy и манипуляции пределами, в которых данное число находится, удалось уменьшить среднее количество попыток угадывания числа с 30 до 7. "
   ]
  },
  {
   "cell_type": "code",
   "execution_count": null,
   "metadata": {},
   "outputs": [],
   "source": []
  },
  {
   "cell_type": "code",
   "execution_count": null,
   "metadata": {},
   "outputs": [],
   "source": []
  },
  {
   "cell_type": "code",
   "execution_count": null,
   "metadata": {},
   "outputs": [],
   "source": []
  },
  {
   "cell_type": "code",
   "execution_count": null,
   "metadata": {},
   "outputs": [],
   "source": []
  },
  {
   "cell_type": "code",
   "execution_count": null,
   "metadata": {},
   "outputs": [],
   "source": []
  },
  {
   "cell_type": "code",
   "execution_count": null,
   "metadata": {},
   "outputs": [],
   "source": []
  },
  {
   "cell_type": "code",
   "execution_count": null,
   "metadata": {},
   "outputs": [],
   "source": []
  },
  {
   "cell_type": "code",
   "execution_count": null,
   "metadata": {},
   "outputs": [],
   "source": []
  },
  {
   "cell_type": "code",
   "execution_count": null,
   "metadata": {},
   "outputs": [],
   "source": []
  },
  {
   "cell_type": "code",
   "execution_count": null,
   "metadata": {},
   "outputs": [],
   "source": []
  },
  {
   "cell_type": "code",
   "execution_count": null,
   "metadata": {},
   "outputs": [],
   "source": []
  }
 ],
 "metadata": {
  "kernelspec": {
   "display_name": "Python 3",
   "language": "python",
   "name": "python3"
  },
  "language_info": {
   "codemirror_mode": {
    "name": "ipython",
    "version": 3
   },
   "file_extension": ".py",
   "mimetype": "text/x-python",
   "name": "python",
   "nbconvert_exporter": "python",
   "pygments_lexer": "ipython3",
   "version": "3.7.3"
  }
 },
 "nbformat": 4,
 "nbformat_minor": 2
}
